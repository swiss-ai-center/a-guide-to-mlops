{
 "cells": [
  {
   "attachments": {},
   "cell_type": "markdown",
   "id": "a0a303b4",
   "metadata": {},
   "source": [
    "# Classifying Planets\n",
    "\n",
    "## Introduction\n",
    "\n",
    "In this classification problem, we embark on a journey where we are presented with a synthetic dataset of planets and moons of our solar system. Our mission is clear: **classify from an image the planet or moon**."
   ]
  },
  {
   "cell_type": "code",
   "execution_count": null,
   "id": "b34e8565",
   "metadata": {},
   "outputs": [],
   "source": [
    "import os\n",
    "import random\n",
    "from pathlib import Path\n",
    "import numpy as np\n",
    "\n",
    "import matplotlib.pyplot as plt\n",
    "import tensorflow as tf"
   ]
  },
  {
   "cell_type": "code",
   "execution_count": null,
   "id": "2264526b",
   "metadata": {},
   "outputs": [],
   "source": [
    "# Set the random seed for reproducibility\n",
    "seed = 77\n",
    "\n",
    "os.environ['PYTHONHASHSEED'] = str(seed)\n",
    "random.seed(seed)\n",
    "np.random.seed(seed)\n",
    "\n",
    "os.environ['TF_DETERMINISTIC_OPS'] = '1'\n",
    "os.environ['TF_CUDNN_DETERMINISTIC'] = '1'\n",
    "\n",
    "tf.random.set_seed(seed)\n",
    "tf.config.threading.set_inter_op_parallelism_threads(1)\n",
    "tf.config.threading.set_intra_op_parallelism_threads(1)"
   ]
  },
  {
   "attachments": {},
   "cell_type": "markdown",
   "id": "38958551",
   "metadata": {},
   "source": [
    "## Load the data"
   ]
  },
  {
   "cell_type": "code",
   "execution_count": null,
   "id": "024eff93",
   "metadata": {},
   "outputs": [],
   "source": [
    "dataset = tf.keras.utils.image_dataset_from_directory(\n",
    "    \"data/raw\",\n",
    "    labels=\"inferred\",\n",
    "    label_mode=\"int\",\n",
    "    color_mode=\"rgb\",\n",
    "    batch_size=32,\n",
    "    image_size=(128, 128)\n",
    ")"
   ]
  },
  {
   "attachments": {},
   "cell_type": "markdown",
   "id": "bdb3d8dc",
   "metadata": {},
   "source": [
    "## Exploring the data"
   ]
  },
  {
   "cell_type": "code",
   "execution_count": null,
   "id": "65e7b83e",
   "metadata": {},
   "outputs": [],
   "source": [
    "print('Data shape:', dataset.element_spec[0].shape)\n",
    "print('Data type:', dataset.element_spec[0].dtype)\n",
    "print('Label shape:', dataset.element_spec[1].shape)\n",
    "print('Label type:', dataset.element_spec[1].dtype)\n",
    "\n",
    "labels = dataset.class_names\n",
    "\n",
    "# Print the labels\n",
    "print(\"Labels:\")\n",
    "for i, label in enumerate(labels):\n",
    "    print(f\"{i:4}: {label}\")\n"
   ]
  },
  {
   "cell_type": "code",
   "execution_count": null,
   "id": "9ef2d896",
   "metadata": {},
   "outputs": [],
   "source": [
    "# Plot 10 sample images\n",
    "plt.figure(figsize=(10, 5), tight_layout=True)\n",
    "for images, label_idxs in dataset.take(1):\n",
    "    for i in range(10):\n",
    "        ax = plt.subplot(2, 5, i + 1)\n",
    "        plt.imshow(images[i].numpy().astype(\"uint8\"))\n",
    "        plt.title(labels[label_idxs[i].numpy()])\n",
    "        plt.axis(\"off\")"
   ]
  },
  {
   "attachments": {},
   "cell_type": "markdown",
   "id": "cdfa8f4a",
   "metadata": {},
   "source": [
    "## Preparing the data\n",
    "\n",
    "The following steps are performed to prepare the data:\n",
    "\n",
    "- Shuffling the data\n",
    "- Splitting the data into training and validation sets\n",
    "- Normalizing the data"
   ]
  },
  {
   "cell_type": "code",
   "execution_count": null,
   "id": "25e0efeb",
   "metadata": {},
   "outputs": [],
   "source": [
    "ds_train, ds_test = tf.keras.utils.image_dataset_from_directory(\n",
    "    \"data/raw\",\n",
    "    labels=\"inferred\",\n",
    "    label_mode=\"int\",\n",
    "    color_mode=\"grayscale\",\n",
    "    batch_size=32,\n",
    "    image_size=(32, 32),\n",
    "    shuffle=True,\n",
    "    seed=seed,\n",
    "    validation_split=0.2,\n",
    "    subset=\"both\",\n",
    ")"
   ]
  },
  {
   "cell_type": "code",
   "execution_count": null,
   "id": "a484ed31",
   "metadata": {},
   "outputs": [],
   "source": [
    "# Plot 10 sample images\n",
    "plt.figure(figsize=(10, 5), tight_layout=True)\n",
    "for images, label_idxs in ds_train.take(1):\n",
    "    for i in range(10):\n",
    "        ax = plt.subplot(2, 5, i + 1)\n",
    "        plt.imshow(images[i].numpy().astype(\"uint8\"), cmap=\"gray\")\n",
    "        plt.title(labels[label_idxs[i].numpy()])\n",
    "        plt.axis(\"off\")"
   ]
  },
  {
   "cell_type": "code",
   "execution_count": null,
   "id": "d4dfaefe",
   "metadata": {},
   "outputs": [],
   "source": [
    "# Normalize the data\n",
    "normalization_layer = tf.keras.layers.Rescaling(\n",
    "    1.0 / 255\n",
    ")\n",
    "ds_train = ds_train.map(lambda x, y: (normalization_layer(x), y))\n",
    "ds_test = ds_test.map(lambda x, y: (normalization_layer(x), y))\n"
   ]
  },
  {
   "attachments": {},
   "cell_type": "markdown",
   "id": "d7cc0268",
   "metadata": {},
   "source": [
    "## Training the model"
   ]
  },
  {
   "cell_type": "code",
   "execution_count": null,
   "id": "6ea7620a",
   "metadata": {},
   "outputs": [],
   "source": [
    "model = tf.keras.models.Sequential(\n",
    "    [\n",
    "        tf.keras.layers.Conv2D(\n",
    "            32, (3, 3), activation=\"relu\", input_shape=(32, 32, 1)\n",
    "        ),\n",
    "        tf.keras.layers.MaxPooling2D((3, 3)),\n",
    "        tf.keras.layers.Flatten(),\n",
    "        tf.keras.layers.Dense(64, activation=\"relu\"),\n",
    "        tf.keras.layers.Dense(11),\n",
    "    ]\n",
    ")\n",
    "\n",
    "model.compile(\n",
    "    optimizer=tf.keras.optimizers.Adam(0.0001),\n",
    "    loss=tf.keras.losses.SparseCategoricalCrossentropy(from_logits=True),\n",
    "    metrics=[tf.keras.metrics.SparseCategoricalAccuracy()],\n",
    ")\n",
    "\n",
    "model.summary()"
   ]
  },
  {
   "cell_type": "code",
   "execution_count": null,
   "id": "e3fefaa2",
   "metadata": {},
   "outputs": [],
   "source": [
    "model.fit(\n",
    "    ds_train,\n",
    "    epochs=5,\n",
    "    validation_data=ds_test,\n",
    ")"
   ]
  },
  {
   "attachments": {},
   "cell_type": "markdown",
   "id": "c27ea210",
   "metadata": {},
   "source": [
    "## Model Evaluation\n",
    "\n",
    "Evaluate the model on the validation set."
   ]
  },
  {
   "cell_type": "code",
   "execution_count": null,
   "id": "46abc043",
   "metadata": {},
   "outputs": [],
   "source": [
    "# Plot the training and validation loss\n",
    "history = model.history.history\n",
    "epochs = range(1, len(history[\"loss\"]) + 1)\n",
    "\n",
    "plt.figure(figsize=(10, 4))\n",
    "plt.plot(epochs, history[\"loss\"], label=\"Training loss\")\n",
    "plt.plot(epochs, history[\"val_loss\"], label=\"Validation loss\")\n",
    "plt.xticks(epochs)\n",
    "plt.title(\"Training and validation loss\")\n",
    "plt.xlabel(\"Epochs\")\n",
    "plt.ylabel(\"Loss\")\n",
    "plt.legend()\n",
    "plt.grid(True)\n",
    "plt.show()"
   ]
  },
  {
   "cell_type": "code",
   "execution_count": null,
   "id": "43a22751",
   "metadata": {},
   "outputs": [],
   "source": [
    "# Print validation metrics\n",
    "val_loss, val_acc = model.evaluate(ds_test)\n",
    "print(f\"Validation loss: {val_loss:.2f}\")\n",
    "print(f\"Validation accuracy: {val_acc * 100:.2f}%\")"
   ]
  },
  {
   "cell_type": "code",
   "execution_count": null,
   "id": "0ddd2615",
   "metadata": {},
   "outputs": [],
   "source": [
    "# Take 10 random images from the test set and show the model's predictions\n",
    "plt.figure(figsize=(10, 5), tight_layout=True)\n",
    "for images, label_idxs in ds_test.take(1):\n",
    "    preds = model.predict(images)\n",
    "    for i in range(10):\n",
    "        plt.subplot(2, 5, i + 1)\n",
    "        img = (images[i].numpy() * 255).astype(\"uint8\")\n",
    "        # Convert image to rgb if grayscale\n",
    "        if img.shape[-1] == 1:\n",
    "            img = np.squeeze(img, axis=-1)\n",
    "            img = np.stack((img,) * 3, axis=-1)\n",
    "        true_label = labels[label_idxs[i].numpy()]\n",
    "        pred_label = labels[np.argmax(preds[i])]\n",
    "        # Add red border if the prediction is wrong else add green border\n",
    "        img = np.pad(img, pad_width=((1, 1), (1, 1), (0, 0)))\n",
    "        if true_label != pred_label:\n",
    "            img[0, :, 0] = 255  # Top border\n",
    "            img[-1, :, 0] = 255  # Bottom border\n",
    "            img[:, 0, 0] = 255  # Left border\n",
    "            img[:, -1, 0] = 255  # Right border\n",
    "        else:\n",
    "            img[0, :, 1] = 255\n",
    "            img[-1, :, 1] = 255\n",
    "            img[:, 0, 1] = 255\n",
    "            img[:, -1, 1] = 255\n",
    "\n",
    "        plt.imshow(img)\n",
    "        plt.title(f\"True: {true_label}\\n\" f\"Pred: {pred_label}\")\n",
    "        plt.axis(\"off\")\n",
    "plt.show()"
   ]
  },
  {
   "cell_type": "code",
   "execution_count": null,
   "id": "91c98071",
   "metadata": {},
   "outputs": [],
   "source": [
    "# Show confusion matrix of confidence per class for the test set\n",
    "plt.figure(figsize=(6, 6), tight_layout=True)\n",
    "preds = model.predict(ds_test)\n",
    "\n",
    "conf_matrix = tf.math.confusion_matrix(\n",
    "    labels=tf.concat([y for _, y in ds_test], axis=0),\n",
    "    predictions=tf.argmax(preds, axis=1),\n",
    "    num_classes=len(labels),\n",
    ")\n",
    "\n",
    "# Plot the confusion matrix\n",
    "plt.imshow(conf_matrix, cmap=\"Blues\")\n",
    "\n",
    "# Plot cell values\n",
    "for i in range(len(labels)):\n",
    "    for j in range(len(labels)):\n",
    "        value = conf_matrix[i, j].numpy()\n",
    "        if value == 0:\n",
    "            color = \"lightgray\"\n",
    "        elif value > 0.5:\n",
    "            color = \"white\"\n",
    "        else:\n",
    "            color = \"black\"\n",
    "        plt.text(\n",
    "            j,\n",
    "            i,\n",
    "            f\"{value:.2f}\",\n",
    "            ha=\"center\",\n",
    "            va=\"center\",\n",
    "            color=color,\n",
    "            fontsize=8,\n",
    "        )\n",
    "\n",
    "plt.colorbar()\n",
    "plt.xticks(range(len(labels)), labels, rotation=90)\n",
    "plt.yticks(range(len(labels)), labels)\n",
    "plt.xlabel(\"Predicted label\")\n",
    "plt.ylabel(\"True label\")\n",
    "plt.title(\"Confusion matrix\")\n",
    "plt.show()"
   ]
  }
 ],
 "metadata": {
  "kernelspec": {
   "display_name": "Python 3 (ipykernel)",
   "language": "python",
   "name": "python3"
  },
  "language_info": {
   "codemirror_mode": {
    "name": "ipython",
    "version": 3
   },
   "file_extension": ".py",
   "mimetype": "text/x-python",
   "name": "python",
   "nbconvert_exporter": "python",
   "pygments_lexer": "ipython3",
   "version": "3.12.8"
  }
 },
 "nbformat": 4,
 "nbformat_minor": 5
}
